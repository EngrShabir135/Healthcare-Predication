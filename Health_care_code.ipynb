{
 "cells": [
  {
   "cell_type": "markdown",
   "id": "64fd8d63",
   "metadata": {},
   "source": [
    "#### First import the important library"
   ]
  },
  {
   "cell_type": "code",
   "execution_count": 4,
   "id": "d830bfca",
   "metadata": {},
   "outputs": [],
   "source": [
    "import numpy as np\n",
    "import pandas as pd\n",
    "import matplotlib.pyplot as plt\n",
    "import seaborn as sns\n",
    "import squarify"
   ]
  },
  {
   "cell_type": "code",
   "execution_count": 5,
   "id": "bfb7e9b7",
   "metadata": {},
   "outputs": [],
   "source": [
    "df=pd.read_csv(\"healthcare_dataset1.csv\")"
   ]
  },
  {
   "cell_type": "code",
   "execution_count": 6,
   "id": "2202290f",
   "metadata": {},
   "outputs": [
    {
     "data": {
      "text/html": [
       "<div>\n",
       "<style scoped>\n",
       "    .dataframe tbody tr th:only-of-type {\n",
       "        vertical-align: middle;\n",
       "    }\n",
       "\n",
       "    .dataframe tbody tr th {\n",
       "        vertical-align: top;\n",
       "    }\n",
       "\n",
       "    .dataframe thead th {\n",
       "        text-align: right;\n",
       "    }\n",
       "</style>\n",
       "<table border=\"1\" class=\"dataframe\">\n",
       "  <thead>\n",
       "    <tr style=\"text-align: right;\">\n",
       "      <th></th>\n",
       "      <th>Name</th>\n",
       "      <th>Age</th>\n",
       "      <th>Gender</th>\n",
       "      <th>Blood Type</th>\n",
       "      <th>Medical Condition</th>\n",
       "      <th>Date of Admission</th>\n",
       "      <th>Doctor</th>\n",
       "      <th>Hospital</th>\n",
       "      <th>Insurance Provider</th>\n",
       "      <th>Billing Amount</th>\n",
       "      <th>Room Number</th>\n",
       "      <th>Admission Type</th>\n",
       "      <th>Discharge Date</th>\n",
       "      <th>Medication</th>\n",
       "      <th>Test Results</th>\n",
       "    </tr>\n",
       "  </thead>\n",
       "  <tbody>\n",
       "    <tr>\n",
       "      <th>0</th>\n",
       "      <td>Bobby JacksOn</td>\n",
       "      <td>30</td>\n",
       "      <td>Male</td>\n",
       "      <td>B-</td>\n",
       "      <td>Cancer</td>\n",
       "      <td>31/01/2024</td>\n",
       "      <td>Matthew Smith</td>\n",
       "      <td>Sons and Miller</td>\n",
       "      <td>Blue Cross</td>\n",
       "      <td>18856.28131</td>\n",
       "      <td>328</td>\n",
       "      <td>Urgent</td>\n",
       "      <td>02/02/2024</td>\n",
       "      <td>Paracetamol</td>\n",
       "      <td>Normal</td>\n",
       "    </tr>\n",
       "    <tr>\n",
       "      <th>1</th>\n",
       "      <td>LesLie TErRy</td>\n",
       "      <td>62</td>\n",
       "      <td>Male</td>\n",
       "      <td>A+</td>\n",
       "      <td>Obesity</td>\n",
       "      <td>20/08/2019</td>\n",
       "      <td>Samantha Davies</td>\n",
       "      <td>Kim Inc</td>\n",
       "      <td>Medicare</td>\n",
       "      <td>33643.32729</td>\n",
       "      <td>265</td>\n",
       "      <td>Emergency</td>\n",
       "      <td>26/08/2019</td>\n",
       "      <td>Ibuprofen</td>\n",
       "      <td>Inconclusive</td>\n",
       "    </tr>\n",
       "    <tr>\n",
       "      <th>2</th>\n",
       "      <td>DaNnY sMitH</td>\n",
       "      <td>76</td>\n",
       "      <td>Female</td>\n",
       "      <td>A-</td>\n",
       "      <td>Obesity</td>\n",
       "      <td>22/09/2022</td>\n",
       "      <td>Tiffany Mitchell</td>\n",
       "      <td>Cook PLC</td>\n",
       "      <td>Aetna</td>\n",
       "      <td>27955.09608</td>\n",
       "      <td>205</td>\n",
       "      <td>Emergency</td>\n",
       "      <td>07/10/2022</td>\n",
       "      <td>Aspirin</td>\n",
       "      <td>Normal</td>\n",
       "    </tr>\n",
       "    <tr>\n",
       "      <th>3</th>\n",
       "      <td>andrEw waTtS</td>\n",
       "      <td>28</td>\n",
       "      <td>Female</td>\n",
       "      <td>O+</td>\n",
       "      <td>Diabetes</td>\n",
       "      <td>18/11/2020</td>\n",
       "      <td>Kevin Wells</td>\n",
       "      <td>Hernandez Rogers and Vang,</td>\n",
       "      <td>Medicare</td>\n",
       "      <td>37909.78241</td>\n",
       "      <td>450</td>\n",
       "      <td>Elective</td>\n",
       "      <td>18/12/2020</td>\n",
       "      <td>Ibuprofen</td>\n",
       "      <td>Abnormal</td>\n",
       "    </tr>\n",
       "    <tr>\n",
       "      <th>4</th>\n",
       "      <td>adrIENNE bEll</td>\n",
       "      <td>43</td>\n",
       "      <td>Female</td>\n",
       "      <td>AB+</td>\n",
       "      <td>Cancer</td>\n",
       "      <td>19/09/2022</td>\n",
       "      <td>Kathleen Hanna</td>\n",
       "      <td>White-White</td>\n",
       "      <td>Aetna</td>\n",
       "      <td>14238.31781</td>\n",
       "      <td>458</td>\n",
       "      <td>Urgent</td>\n",
       "      <td>09/10/2022</td>\n",
       "      <td>Penicillin</td>\n",
       "      <td>Abnormal</td>\n",
       "    </tr>\n",
       "  </tbody>\n",
       "</table>\n",
       "</div>"
      ],
      "text/plain": [
       "            Name  Age  Gender Blood Type Medical Condition Date of Admission  \\\n",
       "0  Bobby JacksOn   30    Male         B-            Cancer        31/01/2024   \n",
       "1   LesLie TErRy   62    Male         A+           Obesity        20/08/2019   \n",
       "2    DaNnY sMitH   76  Female         A-           Obesity        22/09/2022   \n",
       "3   andrEw waTtS   28  Female         O+          Diabetes        18/11/2020   \n",
       "4  adrIENNE bEll   43  Female        AB+            Cancer        19/09/2022   \n",
       "\n",
       "             Doctor                    Hospital Insurance Provider  \\\n",
       "0     Matthew Smith             Sons and Miller         Blue Cross   \n",
       "1   Samantha Davies                     Kim Inc           Medicare   \n",
       "2  Tiffany Mitchell                    Cook PLC              Aetna   \n",
       "3       Kevin Wells  Hernandez Rogers and Vang,           Medicare   \n",
       "4    Kathleen Hanna                 White-White              Aetna   \n",
       "\n",
       "   Billing Amount  Room Number Admission Type Discharge Date   Medication  \\\n",
       "0     18856.28131          328         Urgent     02/02/2024  Paracetamol   \n",
       "1     33643.32729          265      Emergency     26/08/2019    Ibuprofen   \n",
       "2     27955.09608          205      Emergency     07/10/2022      Aspirin   \n",
       "3     37909.78241          450       Elective     18/12/2020    Ibuprofen   \n",
       "4     14238.31781          458         Urgent     09/10/2022   Penicillin   \n",
       "\n",
       "   Test Results  \n",
       "0        Normal  \n",
       "1  Inconclusive  \n",
       "2        Normal  \n",
       "3      Abnormal  \n",
       "4      Abnormal  "
      ]
     },
     "execution_count": 6,
     "metadata": {},
     "output_type": "execute_result"
    }
   ],
   "source": [
    "df.head()"
   ]
  },
  {
   "cell_type": "markdown",
   "id": "8db25947",
   "metadata": {},
   "source": [
    "1. Data cleaning\n",
    "2. EDA\n",
    "3. Pre processing\n",
    "4. Algorithms\n",
    "5. website\n",
    "6. github\n",
    "7. Free deploy"
   ]
  },
  {
   "cell_type": "markdown",
   "id": "9b3349d3",
   "metadata": {},
   "source": [
    "# Data cleaning"
   ]
  },
  {
   "cell_type": "code",
   "execution_count": 7,
   "id": "820e4993",
   "metadata": {},
   "outputs": [
    {
     "data": {
      "text/plain": [
       "(55500, 15)"
      ]
     },
     "execution_count": 7,
     "metadata": {},
     "output_type": "execute_result"
    }
   ],
   "source": [
    "df.shape"
   ]
  },
  {
   "cell_type": "code",
   "execution_count": 8,
   "id": "0c3b469a",
   "metadata": {},
   "outputs": [
    {
     "name": "stdout",
     "output_type": "stream",
     "text": [
      "<class 'pandas.core.frame.DataFrame'>\n",
      "RangeIndex: 55500 entries, 0 to 55499\n",
      "Data columns (total 15 columns):\n",
      " #   Column              Non-Null Count  Dtype  \n",
      "---  ------              --------------  -----  \n",
      " 0   Name                55500 non-null  object \n",
      " 1   Age                 55500 non-null  int64  \n",
      " 2   Gender              55500 non-null  object \n",
      " 3   Blood Type          55500 non-null  object \n",
      " 4   Medical Condition   55500 non-null  object \n",
      " 5   Date of Admission   55500 non-null  object \n",
      " 6   Doctor              55500 non-null  object \n",
      " 7   Hospital            55500 non-null  object \n",
      " 8   Insurance Provider  55500 non-null  object \n",
      " 9   Billing Amount      55500 non-null  float64\n",
      " 10  Room Number         55500 non-null  int64  \n",
      " 11  Admission Type      55500 non-null  object \n",
      " 12  Discharge Date      55500 non-null  object \n",
      " 13  Medication          55500 non-null  object \n",
      " 14  Test Results        55500 non-null  object \n",
      "dtypes: float64(1), int64(2), object(12)\n",
      "memory usage: 6.4+ MB\n"
     ]
    }
   ],
   "source": [
    "df.info()"
   ]
  },
  {
   "cell_type": "code",
   "execution_count": 9,
   "id": "fbad3107",
   "metadata": {},
   "outputs": [
    {
     "data": {
      "text/plain": [
       "Name                  0\n",
       "Age                   0\n",
       "Gender                0\n",
       "Blood Type            0\n",
       "Medical Condition     0\n",
       "Date of Admission     0\n",
       "Doctor                0\n",
       "Hospital              0\n",
       "Insurance Provider    0\n",
       "Billing Amount        0\n",
       "Room Number           0\n",
       "Admission Type        0\n",
       "Discharge Date        0\n",
       "Medication            0\n",
       "Test Results          0\n",
       "dtype: int64"
      ]
     },
     "execution_count": 9,
     "metadata": {},
     "output_type": "execute_result"
    }
   ],
   "source": [
    "df.isnull().sum()"
   ]
  },
  {
   "cell_type": "code",
   "execution_count": 10,
   "id": "87908351",
   "metadata": {},
   "outputs": [
    {
     "data": {
      "text/plain": [
       "534"
      ]
     },
     "execution_count": 10,
     "metadata": {},
     "output_type": "execute_result"
    }
   ],
   "source": [
    "df.duplicated().sum()"
   ]
  },
  {
   "cell_type": "markdown",
   "id": "4b19115a",
   "metadata": {},
   "source": [
    "#### first we remove the duplicates"
   ]
  },
  {
   "cell_type": "code",
   "execution_count": 11,
   "id": "74c54f08",
   "metadata": {},
   "outputs": [],
   "source": [
    "df=df.drop_duplicates()"
   ]
  },
  {
   "cell_type": "code",
   "execution_count": 12,
   "id": "e27c4944",
   "metadata": {},
   "outputs": [
    {
     "data": {
      "text/plain": [
       "0"
      ]
     },
     "execution_count": 12,
     "metadata": {},
     "output_type": "execute_result"
    }
   ],
   "source": [
    "df.duplicated().sum()"
   ]
  },
  {
   "cell_type": "code",
   "execution_count": 13,
   "id": "0b4431fb",
   "metadata": {},
   "outputs": [
    {
     "data": {
      "text/html": [
       "<div>\n",
       "<style scoped>\n",
       "    .dataframe tbody tr th:only-of-type {\n",
       "        vertical-align: middle;\n",
       "    }\n",
       "\n",
       "    .dataframe tbody tr th {\n",
       "        vertical-align: top;\n",
       "    }\n",
       "\n",
       "    .dataframe thead th {\n",
       "        text-align: right;\n",
       "    }\n",
       "</style>\n",
       "<table border=\"1\" class=\"dataframe\">\n",
       "  <thead>\n",
       "    <tr style=\"text-align: right;\">\n",
       "      <th></th>\n",
       "      <th>Name</th>\n",
       "      <th>Age</th>\n",
       "      <th>Gender</th>\n",
       "      <th>Blood Type</th>\n",
       "      <th>Medical Condition</th>\n",
       "      <th>Date of Admission</th>\n",
       "      <th>Doctor</th>\n",
       "      <th>Hospital</th>\n",
       "      <th>Insurance Provider</th>\n",
       "      <th>Billing Amount</th>\n",
       "      <th>Room Number</th>\n",
       "      <th>Admission Type</th>\n",
       "      <th>Discharge Date</th>\n",
       "      <th>Medication</th>\n",
       "      <th>Test Results</th>\n",
       "    </tr>\n",
       "  </thead>\n",
       "  <tbody>\n",
       "    <tr>\n",
       "      <th>54410</th>\n",
       "      <td>MICHAeL COLE</td>\n",
       "      <td>70</td>\n",
       "      <td>Male</td>\n",
       "      <td>A-</td>\n",
       "      <td>Cancer</td>\n",
       "      <td>30/09/2020</td>\n",
       "      <td>Kevin Tucker</td>\n",
       "      <td>Gibson Ltd</td>\n",
       "      <td>Medicare</td>\n",
       "      <td>38848.387850</td>\n",
       "      <td>187</td>\n",
       "      <td>Urgent</td>\n",
       "      <td>29/10/2020</td>\n",
       "      <td>Lipitor</td>\n",
       "      <td>Inconclusive</td>\n",
       "    </tr>\n",
       "    <tr>\n",
       "      <th>2434</th>\n",
       "      <td>caLVIN SToKes</td>\n",
       "      <td>81</td>\n",
       "      <td>Female</td>\n",
       "      <td>A-</td>\n",
       "      <td>Diabetes</td>\n",
       "      <td>14/05/2022</td>\n",
       "      <td>Jeffrey Edwards</td>\n",
       "      <td>Franklin Gentry and Kennedy,</td>\n",
       "      <td>Aetna</td>\n",
       "      <td>43279.727770</td>\n",
       "      <td>309</td>\n",
       "      <td>Emergency</td>\n",
       "      <td>22/05/2022</td>\n",
       "      <td>Paracetamol</td>\n",
       "      <td>Normal</td>\n",
       "    </tr>\n",
       "    <tr>\n",
       "      <th>25653</th>\n",
       "      <td>jesSICA WhItE</td>\n",
       "      <td>26</td>\n",
       "      <td>Female</td>\n",
       "      <td>B+</td>\n",
       "      <td>Cancer</td>\n",
       "      <td>25/12/2022</td>\n",
       "      <td>Dr. Robert Green PhD</td>\n",
       "      <td>Group Miller</td>\n",
       "      <td>Aetna</td>\n",
       "      <td>38188.044370</td>\n",
       "      <td>329</td>\n",
       "      <td>Elective</td>\n",
       "      <td>22/01/2023</td>\n",
       "      <td>Paracetamol</td>\n",
       "      <td>Inconclusive</td>\n",
       "    </tr>\n",
       "    <tr>\n",
       "      <th>9407</th>\n",
       "      <td>JAred BrowN</td>\n",
       "      <td>36</td>\n",
       "      <td>Male</td>\n",
       "      <td>AB+</td>\n",
       "      <td>Hypertension</td>\n",
       "      <td>08/03/2021</td>\n",
       "      <td>Daniel Dunn</td>\n",
       "      <td>Rodriguez-Gutierrez</td>\n",
       "      <td>Blue Cross</td>\n",
       "      <td>2339.754076</td>\n",
       "      <td>249</td>\n",
       "      <td>Urgent</td>\n",
       "      <td>03/04/2021</td>\n",
       "      <td>Ibuprofen</td>\n",
       "      <td>Abnormal</td>\n",
       "    </tr>\n",
       "    <tr>\n",
       "      <th>11210</th>\n",
       "      <td>ROsE lEWIs</td>\n",
       "      <td>76</td>\n",
       "      <td>Male</td>\n",
       "      <td>A+</td>\n",
       "      <td>Arthritis</td>\n",
       "      <td>12/11/2020</td>\n",
       "      <td>Lydia Lopez</td>\n",
       "      <td>Coffey, Stone Gibson and</td>\n",
       "      <td>Aetna</td>\n",
       "      <td>22080.467560</td>\n",
       "      <td>186</td>\n",
       "      <td>Emergency</td>\n",
       "      <td>21/11/2020</td>\n",
       "      <td>Paracetamol</td>\n",
       "      <td>Abnormal</td>\n",
       "    </tr>\n",
       "  </tbody>\n",
       "</table>\n",
       "</div>"
      ],
      "text/plain": [
       "                Name  Age  Gender Blood Type Medical Condition  \\\n",
       "54410   MICHAeL COLE   70    Male         A-            Cancer   \n",
       "2434   caLVIN SToKes   81  Female         A-          Diabetes   \n",
       "25653  jesSICA WhItE   26  Female         B+            Cancer   \n",
       "9407     JAred BrowN   36    Male        AB+      Hypertension   \n",
       "11210     ROsE lEWIs   76    Male         A+         Arthritis   \n",
       "\n",
       "      Date of Admission                Doctor                      Hospital  \\\n",
       "54410        30/09/2020          Kevin Tucker                    Gibson Ltd   \n",
       "2434         14/05/2022       Jeffrey Edwards  Franklin Gentry and Kennedy,   \n",
       "25653        25/12/2022  Dr. Robert Green PhD                  Group Miller   \n",
       "9407         08/03/2021           Daniel Dunn           Rodriguez-Gutierrez   \n",
       "11210        12/11/2020           Lydia Lopez      Coffey, Stone Gibson and   \n",
       "\n",
       "      Insurance Provider  Billing Amount  Room Number Admission Type  \\\n",
       "54410           Medicare    38848.387850          187         Urgent   \n",
       "2434               Aetna    43279.727770          309      Emergency   \n",
       "25653              Aetna    38188.044370          329       Elective   \n",
       "9407          Blue Cross     2339.754076          249         Urgent   \n",
       "11210              Aetna    22080.467560          186      Emergency   \n",
       "\n",
       "      Discharge Date   Medication  Test Results  \n",
       "54410     29/10/2020      Lipitor  Inconclusive  \n",
       "2434      22/05/2022  Paracetamol        Normal  \n",
       "25653     22/01/2023  Paracetamol  Inconclusive  \n",
       "9407      03/04/2021    Ibuprofen      Abnormal  \n",
       "11210     21/11/2020  Paracetamol      Abnormal  "
      ]
     },
     "execution_count": 13,
     "metadata": {},
     "output_type": "execute_result"
    }
   ],
   "source": [
    "df.sample(5)"
   ]
  },
  {
   "cell_type": "code",
   "execution_count": 14,
   "id": "0e248c70",
   "metadata": {},
   "outputs": [],
   "source": [
    "df.drop(['Name','Date of Admission','Doctor','Hospital','Room Number','Discharge Date'],axis='columns',inplace=True)"
   ]
  },
  {
   "cell_type": "code",
   "execution_count": 15,
   "id": "b46b42e4",
   "metadata": {},
   "outputs": [
    {
     "data": {
      "text/html": [
       "<div>\n",
       "<style scoped>\n",
       "    .dataframe tbody tr th:only-of-type {\n",
       "        vertical-align: middle;\n",
       "    }\n",
       "\n",
       "    .dataframe tbody tr th {\n",
       "        vertical-align: top;\n",
       "    }\n",
       "\n",
       "    .dataframe thead th {\n",
       "        text-align: right;\n",
       "    }\n",
       "</style>\n",
       "<table border=\"1\" class=\"dataframe\">\n",
       "  <thead>\n",
       "    <tr style=\"text-align: right;\">\n",
       "      <th></th>\n",
       "      <th>Age</th>\n",
       "      <th>Gender</th>\n",
       "      <th>Blood Type</th>\n",
       "      <th>Medical Condition</th>\n",
       "      <th>Insurance Provider</th>\n",
       "      <th>Billing Amount</th>\n",
       "      <th>Admission Type</th>\n",
       "      <th>Medication</th>\n",
       "      <th>Test Results</th>\n",
       "    </tr>\n",
       "  </thead>\n",
       "  <tbody>\n",
       "    <tr>\n",
       "      <th>0</th>\n",
       "      <td>30</td>\n",
       "      <td>Male</td>\n",
       "      <td>B-</td>\n",
       "      <td>Cancer</td>\n",
       "      <td>Blue Cross</td>\n",
       "      <td>18856.28131</td>\n",
       "      <td>Urgent</td>\n",
       "      <td>Paracetamol</td>\n",
       "      <td>Normal</td>\n",
       "    </tr>\n",
       "    <tr>\n",
       "      <th>1</th>\n",
       "      <td>62</td>\n",
       "      <td>Male</td>\n",
       "      <td>A+</td>\n",
       "      <td>Obesity</td>\n",
       "      <td>Medicare</td>\n",
       "      <td>33643.32729</td>\n",
       "      <td>Emergency</td>\n",
       "      <td>Ibuprofen</td>\n",
       "      <td>Inconclusive</td>\n",
       "    </tr>\n",
       "    <tr>\n",
       "      <th>2</th>\n",
       "      <td>76</td>\n",
       "      <td>Female</td>\n",
       "      <td>A-</td>\n",
       "      <td>Obesity</td>\n",
       "      <td>Aetna</td>\n",
       "      <td>27955.09608</td>\n",
       "      <td>Emergency</td>\n",
       "      <td>Aspirin</td>\n",
       "      <td>Normal</td>\n",
       "    </tr>\n",
       "    <tr>\n",
       "      <th>3</th>\n",
       "      <td>28</td>\n",
       "      <td>Female</td>\n",
       "      <td>O+</td>\n",
       "      <td>Diabetes</td>\n",
       "      <td>Medicare</td>\n",
       "      <td>37909.78241</td>\n",
       "      <td>Elective</td>\n",
       "      <td>Ibuprofen</td>\n",
       "      <td>Abnormal</td>\n",
       "    </tr>\n",
       "    <tr>\n",
       "      <th>4</th>\n",
       "      <td>43</td>\n",
       "      <td>Female</td>\n",
       "      <td>AB+</td>\n",
       "      <td>Cancer</td>\n",
       "      <td>Aetna</td>\n",
       "      <td>14238.31781</td>\n",
       "      <td>Urgent</td>\n",
       "      <td>Penicillin</td>\n",
       "      <td>Abnormal</td>\n",
       "    </tr>\n",
       "  </tbody>\n",
       "</table>\n",
       "</div>"
      ],
      "text/plain": [
       "   Age  Gender Blood Type Medical Condition Insurance Provider  \\\n",
       "0   30    Male         B-            Cancer         Blue Cross   \n",
       "1   62    Male         A+           Obesity           Medicare   \n",
       "2   76  Female         A-           Obesity              Aetna   \n",
       "3   28  Female         O+          Diabetes           Medicare   \n",
       "4   43  Female        AB+            Cancer              Aetna   \n",
       "\n",
       "   Billing Amount Admission Type   Medication  Test Results  \n",
       "0     18856.28131         Urgent  Paracetamol        Normal  \n",
       "1     33643.32729      Emergency    Ibuprofen  Inconclusive  \n",
       "2     27955.09608      Emergency      Aspirin        Normal  \n",
       "3     37909.78241       Elective    Ibuprofen      Abnormal  \n",
       "4     14238.31781         Urgent   Penicillin      Abnormal  "
      ]
     },
     "execution_count": 15,
     "metadata": {},
     "output_type": "execute_result"
    }
   ],
   "source": [
    "df.head()"
   ]
  },
  {
   "cell_type": "markdown",
   "id": "41f049bf",
   "metadata": {},
   "source": [
    "# EDA"
   ]
  },
  {
   "cell_type": "code",
   "execution_count": 16,
   "id": "0964346a",
   "metadata": {},
   "outputs": [
    {
     "data": {
      "text/plain": [
       "Male      27496\n",
       "Female    27470\n",
       "Name: Gender, dtype: int64"
      ]
     },
     "execution_count": 16,
     "metadata": {},
     "output_type": "execute_result"
    }
   ],
   "source": [
    "df['Gender'].value_counts()"
   ]
  },
  {
   "cell_type": "code",
   "execution_count": 17,
   "id": "38f1092e",
   "metadata": {},
   "outputs": [
    {
     "data": {
      "image/png": "[encoded data removed]",
      "text/plain": [
       "<Figure size 1500x600 with 6 Axes>"
      ]
     },
     "metadata": {},
     "output_type": "display_data"
    }
   ],
   "source": [
    "fig,axis=plt.subplots(2,3,figsize=(15,6))\n",
    "axis[0,0].pie(df['Gender'].value_counts(),autopct=\"%0.2f%%\",labels=['Male','Female'])\n",
    "axis[0,0].set_title(\"Comparison of gender\")\n",
    "\n",
    "sns.barplot(x=df['Blood Type'].value_counts().index,y=df['Blood Type'].value_counts().values,ax=axis[0,1])\n",
    "axis[0,1].set_title(\"compare different blood type\")\n",
    "\n",
    "\n",
    "# Treemap for blood type comparison\n",
    "sizes = df['Blood Type'].value_counts().values.tolist()\n",
    "labels = df['Blood Type'].index.tolist()\n",
    "\n",
    "squarify.plot(sizes=sizes, label=labels, alpha=.8, ax=axis[0, 2])\n",
    "axis[0, 2].set_title(\"Treemap of different blood types\")\n",
    "axis[0, 2].axis('off')  # Remove axes for better visualization\n",
    "\n",
    "sns.barplot(x=df['Medical Condition'].value_counts().index,y=df['Medical Condition'].value_counts().values,ax=axis[1,0])\n",
    "axis[1,0].set_title(\"Compare different Midical condition\")\n",
    "axis[1,0].set_xticklabels(df['Medical Condition'].value_counts().index, rotation=45)\n",
    "\n",
    "\n",
    "size=df['Medical Condition'].value_counts().values.tolist()\n",
    "labelss=df['Medical Condition'].value_counts().values.tolist()\n",
    "\n",
    "squarify.plot(sizes=size,label=labelss,alpha=0.8,ax=axis[1,1])\n",
    "axis[1,1].set_title(\"Treemap of different medical condition\")\n",
    "\n",
    "sns.barplot(x=df['Insurance Provider'].value_counts().index,y=df['Insurance Provider'].value_counts().values,ax=axis[1,2])\n",
    "axis[1,2].set_title(\"Compare Insurance Provider\")\n",
    "axis[1,2].set_xticklabels(df['Insurance Provider'].value_counts().index,rotation=45)\n",
    "\n",
    "\n",
    "plt.tight_layout()\n",
    "plt.show()"
   ]
  },
  {
   "cell_type": "code",
   "execution_count": 18,
   "id": "c92ca5be",
   "metadata": {},
   "outputs": [
    {
     "data": {
      "image/png": "[encoded data removed]",
      "text/plain": [
       "<Figure size 1000x600 with 1 Axes>"
      ]
     },
     "metadata": {},
     "output_type": "display_data"
    }
   ],
   "source": [
    "fig, ax = plt.subplots(figsize=(10, 6))\n",
    "\n",
    "# Box plot for age distribution by gender\n",
    "sns.boxplot(x='Gender', y='Age', data=df, ax=ax)\n",
    "ax.set_title(\"Age Distribution by Gender\")\n",
    "ax.set_xlabel(\"Gender\")\n",
    "ax.set_ylabel(\"Age\")\n",
    "\n",
    "plt.show()"
   ]
  },
  {
   "cell_type": "markdown",
   "id": "a1e6633a",
   "metadata": {},
   "source": [
    "Using Crosstab\n",
    "<p>A crosstab will show the total billing amount by gender."
   ]
  },
  {
   "cell_type": "code",
   "execution_count": 19,
   "id": "36b8ba76",
   "metadata": {},
   "outputs": [
    {
     "name": "stdout",
     "output_type": "stream",
     "text": [
      "col_0          Total\n",
      "Gender              \n",
      "Female  6.997735e+08\n",
      "Male    7.042949e+08\n"
     ]
    }
   ],
   "source": [
    "crosstab_result = pd.crosstab(index=df['Gender'], columns='Total', values=df['Billing Amount'], aggfunc='sum')\n",
    "print(crosstab_result)"
   ]
  },
  {
   "cell_type": "markdown",
   "id": "2c76342b",
   "metadata": {},
   "source": [
    "<h1>_________________________________________________________"
   ]
  },
  {
   "cell_type": "markdown",
   "id": "2de2e8af",
   "metadata": {},
   "source": [
    "Using Pivot Table\n",
    "<p>A pivot table can also be used to summarize data."
   ]
  },
  {
   "cell_type": "code",
   "execution_count": 20,
   "id": "aed0e0db",
   "metadata": {},
   "outputs": [
    {
     "name": "stdout",
     "output_type": "stream",
     "text": [
      "        Billing Amount\n",
      "Gender                \n",
      "Female    6.997735e+08\n",
      "Male      7.042949e+08\n"
     ]
    }
   ],
   "source": [
    "pivot_result = df.pivot_table(values='Billing Amount', index='Gender', aggfunc='sum')\n",
    "print(pivot_result)"
   ]
  },
  {
   "cell_type": "markdown",
   "id": "0731b7b2",
   "metadata": {},
   "source": [
    "<h1> _______________________________________________________________"
   ]
  },
  {
   "cell_type": "markdown",
   "id": "69c034cb",
   "metadata": {},
   "source": [
    "Using Group By\n",
    "<p>Group by is another way to aggregate data by categories."
   ]
  },
  {
   "cell_type": "code",
   "execution_count": 21,
   "id": "1aa6a18e",
   "metadata": {},
   "outputs": [
    {
     "name": "stdout",
     "output_type": "stream",
     "text": [
      "   Gender  Billing Amount\n",
      "0  Female    6.997735e+08\n",
      "1    Male    7.042949e+08\n"
     ]
    }
   ],
   "source": [
    "groupby_result = df.groupby('Gender')['Billing Amount'].sum().reset_index()\n",
    "print(groupby_result)"
   ]
  },
  {
   "cell_type": "markdown",
   "id": "ddf4b979",
   "metadata": {},
   "source": [
    "<h1> __________________________________________________"
   ]
  },
  {
   "cell_type": "markdown",
   "id": "bec99787",
   "metadata": {},
   "source": [
    "Visualization\n",
    "<p>To visualize the results, you can use a bar plot."
   ]
  },
  {
   "cell_type": "code",
   "execution_count": 22,
   "id": "f9bab4b0",
   "metadata": {},
   "outputs": [
    {
     "data": {
      "image/png": "[encoded data removed]",
      "text/plain": [
       "<Figure size 800x600 with 1 Axes>"
      ]
     },
     "metadata": {},
     "output_type": "display_data"
    }
   ],
   "source": [
    "import matplotlib.pyplot as plt\n",
    "import seaborn as sns\n",
    "\n",
    "# Using Group By result for visualization\n",
    "fig, ax = plt.subplots(figsize=(8, 6))\n",
    "sns.barplot(x='Gender', y='Billing Amount', data=groupby_result, ax=ax)\n",
    "ax.set_title(\"Total Billing Amount by Gender\")\n",
    "ax.set_xlabel(\"Gender\")\n",
    "ax.set_ylabel(\"Total Billing Amount\")\n",
    "plt.show()"
   ]
  },
  {
   "cell_type": "code",
   "execution_count": 23,
   "id": "5121dcfc",
   "metadata": {},
   "outputs": [
    {
     "data": {
      "image/png": "[encoded data removed]",
      "text/plain": [
       "<Figure size 640x480 with 1 Axes>"
      ]
     },
     "metadata": {},
     "output_type": "display_data"
    }
   ],
   "source": [
    "plt.pie(df['Admission Type'].value_counts(),labels=['Elective',\"Urgnet\",\"Emergency\"],autopct=\"%0.2f%%\")\n",
    "plt.show()"
   ]
  },
  {
   "cell_type": "code",
   "execution_count": 24,
   "id": "bd06d2d5",
   "metadata": {},
   "outputs": [
    {
     "data": {
      "text/plain": [
       "Lipitor        11038\n",
       "Ibuprofen      11023\n",
       "Aspirin        10984\n",
       "Paracetamol    10965\n",
       "Penicillin     10956\n",
       "Name: Medication, dtype: int64"
      ]
     },
     "execution_count": 24,
     "metadata": {},
     "output_type": "execute_result"
    }
   ],
   "source": [
    "df['Medication'].value_counts()"
   ]
  },
  {
   "cell_type": "code",
   "execution_count": 25,
   "id": "9a469362",
   "metadata": {},
   "outputs": [
    {
     "data": {
      "image/png": "[encoded data removed]",
      "text/plain": [
       "<Figure size 640x480 with 1 Axes>"
      ]
     },
     "metadata": {},
     "output_type": "display_data"
    }
   ],
   "source": [
    "plt.pie(df['Medication'].value_counts(),labels=['Liptior',\"Ibuprofen\",\"Aspirin\",\"Paracetamol\",\"Penicillin\"],autopct=\"%0.2f%%\")\n",
    "plt.show()"
   ]
  },
  {
   "cell_type": "code",
   "execution_count": 26,
   "id": "a760f3f4",
   "metadata": {},
   "outputs": [
    {
     "data": {
      "text/plain": [
       "Abnormal        18437\n",
       "Normal          18331\n",
       "Inconclusive    18198\n",
       "Name: Test Results, dtype: int64"
      ]
     },
     "execution_count": 26,
     "metadata": {},
     "output_type": "execute_result"
    }
   ],
   "source": [
    "df['Test Results'].value_counts()"
   ]
  },
  {
   "cell_type": "code",
   "execution_count": 27,
   "id": "e3c47a56",
   "metadata": {},
   "outputs": [
    {
     "data": {
      "image/png": "[encoded data removed]",
      "text/plain": [
       "<Figure size 640x480 with 1 Axes>"
      ]
     },
     "metadata": {},
     "output_type": "display_data"
    }
   ],
   "source": [
    "plt.pie(df['Test Results'].value_counts(),labels=['Abnormal',\"Normal\",\"Inconclusive\"],autopct=\"%0.2f%%\")\n",
    "plt.show()"
   ]
  },
  {
   "cell_type": "code",
   "execution_count": 28,
   "id": "80d16673",
   "metadata": {},
   "outputs": [
    {
     "name": "stdout",
     "output_type": "stream",
     "text": [
      "Crosstab Result:\n",
      " Test Results  Abnormal  Inconclusive  Normal\n",
      "Gender                                      \n",
      "Female            9247          9143    9080\n",
      "Male              9190          9055    9251\n"
     ]
    }
   ],
   "source": [
    "crosstab_result = pd.crosstab(index=df['Gender'], columns=df['Test Results'])\n",
    "print(\"Crosstab Result:\\n\", crosstab_result)"
   ]
  },
  {
   "cell_type": "code",
   "execution_count": 29,
   "id": "22da1f31",
   "metadata": {},
   "outputs": [
    {
     "name": "stdout",
     "output_type": "stream",
     "text": [
      "\n",
      "Group By Result:\n",
      " Test Results  Abnormal  Inconclusive  Normal\n",
      "Gender                                      \n",
      "Female            9247          9143    9080\n",
      "Male              9190          9055    9251\n"
     ]
    }
   ],
   "source": [
    "groupby_result = df.groupby(['Gender', 'Test Results']).size().unstack(fill_value=0)\n",
    "print(\"\\nGroup By Result:\\n\", groupby_result)"
   ]
  },
  {
   "cell_type": "code",
   "execution_count": 30,
   "id": "6a8196bf",
   "metadata": {},
   "outputs": [
    {
     "data": {
      "image/png": "[encoded data removed]",
      "text/plain": [
       "<Figure size 1000x600 with 1 Axes>"
      ]
     },
     "metadata": {},
     "output_type": "display_data"
    }
   ],
   "source": [
    "# Reshape the crosstab result for visualization\n",
    "crosstab_result_melted = crosstab_result.reset_index().melt(id_vars='Gender', var_name='Test Results', value_name='Count')\n",
    "\n",
    "# Using Crosstab result for visualization\n",
    "fig, ax = plt.subplots(figsize=(10, 6))\n",
    "sns.barplot(x='Test Results', y='Count', hue='Gender', data=crosstab_result_melted, ax=ax)\n",
    "ax.set_title(\"Test Results by Gender\")\n",
    "ax.set_xlabel(\"Test Results\")\n",
    "ax.set_ylabel(\"Count\")\n",
    "plt.show()"
   ]
  },
  {
   "cell_type": "code",
   "execution_count": 31,
   "id": "562ebdaa",
   "metadata": {},
   "outputs": [
    {
     "data": {
      "text/html": [
       "<div>\n",
       "<style scoped>\n",
       "    .dataframe tbody tr th:only-of-type {\n",
       "        vertical-align: middle;\n",
       "    }\n",
       "\n",
       "    .dataframe tbody tr th {\n",
       "        vertical-align: top;\n",
       "    }\n",
       "\n",
       "    .dataframe thead th {\n",
       "        text-align: right;\n",
       "    }\n",
       "</style>\n",
       "<table border=\"1\" class=\"dataframe\">\n",
       "  <thead>\n",
       "    <tr style=\"text-align: right;\">\n",
       "      <th>Insurance Provider</th>\n",
       "      <th>Aetna</th>\n",
       "      <th>Blue Cross</th>\n",
       "      <th>Cigna</th>\n",
       "      <th>Medicare</th>\n",
       "      <th>UnitedHealthcare</th>\n",
       "    </tr>\n",
       "    <tr>\n",
       "      <th>Gender</th>\n",
       "      <th></th>\n",
       "      <th></th>\n",
       "      <th></th>\n",
       "      <th></th>\n",
       "      <th></th>\n",
       "    </tr>\n",
       "  </thead>\n",
       "  <tbody>\n",
       "    <tr>\n",
       "      <th>Female</th>\n",
       "      <td>49.251525</td>\n",
       "      <td>50.356099</td>\n",
       "      <td>50.21097</td>\n",
       "      <td>50.067941</td>\n",
       "      <td>49.981841</td>\n",
       "    </tr>\n",
       "    <tr>\n",
       "      <th>Male</th>\n",
       "      <td>50.748475</td>\n",
       "      <td>49.643901</td>\n",
       "      <td>49.78903</td>\n",
       "      <td>49.932059</td>\n",
       "      <td>50.018159</td>\n",
       "    </tr>\n",
       "  </tbody>\n",
       "</table>\n",
       "</div>"
      ],
      "text/plain": [
       "Insurance Provider      Aetna  Blue Cross     Cigna   Medicare  \\\n",
       "Gender                                                           \n",
       "Female              49.251525   50.356099  50.21097  50.067941   \n",
       "Male                50.748475   49.643901  49.78903  49.932059   \n",
       "\n",
       "Insurance Provider  UnitedHealthcare  \n",
       "Gender                                \n",
       "Female                     49.981841  \n",
       "Male                       50.018159  "
      ]
     },
     "execution_count": 31,
     "metadata": {},
     "output_type": "execute_result"
    }
   ],
   "source": [
    "pd.crosstab(df['Gender'],df['Insurance Provider'],normalize='columns')*100"
   ]
  },
  {
   "cell_type": "markdown",
   "id": "6a095f12",
   "metadata": {},
   "source": [
    "# Pre processing"
   ]
  },
  {
   "cell_type": "code",
   "execution_count": 32,
   "id": "4f179e5c",
   "metadata": {},
   "outputs": [
    {
     "data": {
      "text/html": [
       "<div>\n",
       "<style scoped>\n",
       "    .dataframe tbody tr th:only-of-type {\n",
       "        vertical-align: middle;\n",
       "    }\n",
       "\n",
       "    .dataframe tbody tr th {\n",
       "        vertical-align: top;\n",
       "    }\n",
       "\n",
       "    .dataframe thead th {\n",
       "        text-align: right;\n",
       "    }\n",
       "</style>\n",
       "<table border=\"1\" class=\"dataframe\">\n",
       "  <thead>\n",
       "    <tr style=\"text-align: right;\">\n",
       "      <th></th>\n",
       "      <th>Age</th>\n",
       "      <th>Gender</th>\n",
       "      <th>Blood Type</th>\n",
       "      <th>Medical Condition</th>\n",
       "      <th>Insurance Provider</th>\n",
       "      <th>Billing Amount</th>\n",
       "      <th>Admission Type</th>\n",
       "      <th>Medication</th>\n",
       "      <th>Test Results</th>\n",
       "    </tr>\n",
       "  </thead>\n",
       "  <tbody>\n",
       "    <tr>\n",
       "      <th>0</th>\n",
       "      <td>30</td>\n",
       "      <td>Male</td>\n",
       "      <td>B-</td>\n",
       "      <td>Cancer</td>\n",
       "      <td>Blue Cross</td>\n",
       "      <td>18856.28131</td>\n",
       "      <td>Urgent</td>\n",
       "      <td>Paracetamol</td>\n",
       "      <td>Normal</td>\n",
       "    </tr>\n",
       "    <tr>\n",
       "      <th>1</th>\n",
       "      <td>62</td>\n",
       "      <td>Male</td>\n",
       "      <td>A+</td>\n",
       "      <td>Obesity</td>\n",
       "      <td>Medicare</td>\n",
       "      <td>33643.32729</td>\n",
       "      <td>Emergency</td>\n",
       "      <td>Ibuprofen</td>\n",
       "      <td>Inconclusive</td>\n",
       "    </tr>\n",
       "    <tr>\n",
       "      <th>2</th>\n",
       "      <td>76</td>\n",
       "      <td>Female</td>\n",
       "      <td>A-</td>\n",
       "      <td>Obesity</td>\n",
       "      <td>Aetna</td>\n",
       "      <td>27955.09608</td>\n",
       "      <td>Emergency</td>\n",
       "      <td>Aspirin</td>\n",
       "      <td>Normal</td>\n",
       "    </tr>\n",
       "    <tr>\n",
       "      <th>3</th>\n",
       "      <td>28</td>\n",
       "      <td>Female</td>\n",
       "      <td>O+</td>\n",
       "      <td>Diabetes</td>\n",
       "      <td>Medicare</td>\n",
       "      <td>37909.78241</td>\n",
       "      <td>Elective</td>\n",
       "      <td>Ibuprofen</td>\n",
       "      <td>Abnormal</td>\n",
       "    </tr>\n",
       "    <tr>\n",
       "      <th>4</th>\n",
       "      <td>43</td>\n",
       "      <td>Female</td>\n",
       "      <td>AB+</td>\n",
       "      <td>Cancer</td>\n",
       "      <td>Aetna</td>\n",
       "      <td>14238.31781</td>\n",
       "      <td>Urgent</td>\n",
       "      <td>Penicillin</td>\n",
       "      <td>Abnormal</td>\n",
       "    </tr>\n",
       "  </tbody>\n",
       "</table>\n",
       "</div>"
      ],
      "text/plain": [
       "   Age  Gender Blood Type Medical Condition Insurance Provider  \\\n",
       "0   30    Male         B-            Cancer         Blue Cross   \n",
       "1   62    Male         A+           Obesity           Medicare   \n",
       "2   76  Female         A-           Obesity              Aetna   \n",
       "3   28  Female         O+          Diabetes           Medicare   \n",
       "4   43  Female        AB+            Cancer              Aetna   \n",
       "\n",
       "   Billing Amount Admission Type   Medication  Test Results  \n",
       "0     18856.28131         Urgent  Paracetamol        Normal  \n",
       "1     33643.32729      Emergency    Ibuprofen  Inconclusive  \n",
       "2     27955.09608      Emergency      Aspirin        Normal  \n",
       "3     37909.78241       Elective    Ibuprofen      Abnormal  \n",
       "4     14238.31781         Urgent   Penicillin      Abnormal  "
      ]
     },
     "execution_count": 32,
     "metadata": {},
     "output_type": "execute_result"
    }
   ],
   "source": [
    "df.head()"
   ]
  },
  {
   "cell_type": "code",
   "execution_count": 46,
   "id": "bd5f53f8",
   "metadata": {},
   "outputs": [],
   "source": [
    "from sklearn.model_selection import train_test_split\n",
    "from sklearn.preprocessing import OneHotEncoder\n",
    "from sklearn.preprocessing import LabelEncoder\n",
    "from sklearn.compose import ColumnTransformer\n",
    "from sklearn.pipeline import Pipeline\n",
    "from sklearn.tree import DecisionTreeClassifier\n",
    "from sklearn.linear_model import LogisticRegression\n",
    "from sklearn.svm import SVC\n",
    "from xgboost import XGBClassifier\n",
    "from sklearn.ensemble import RandomForestClassifier"
   ]
  },
  {
   "cell_type": "code",
   "execution_count": 34,
   "id": "1ea253b5",
   "metadata": {},
   "outputs": [],
   "source": [
    "encoder=LabelEncoder()"
   ]
  },
  {
   "cell_type": "code",
   "execution_count": 35,
   "id": "7bbd53d0",
   "metadata": {},
   "outputs": [],
   "source": [
    "df['Test Results']=encoder.fit_transform(df['Test Results'])"
   ]
  },
  {
   "cell_type": "code",
   "execution_count": 36,
   "id": "b9ca154c",
   "metadata": {},
   "outputs": [
    {
     "data": {
      "text/html": [
       "<div>\n",
       "<style scoped>\n",
       "    .dataframe tbody tr th:only-of-type {\n",
       "        vertical-align: middle;\n",
       "    }\n",
       "\n",
       "    .dataframe tbody tr th {\n",
       "        vertical-align: top;\n",
       "    }\n",
       "\n",
       "    .dataframe thead th {\n",
       "        text-align: right;\n",
       "    }\n",
       "</style>\n",
       "<table border=\"1\" class=\"dataframe\">\n",
       "  <thead>\n",
       "    <tr style=\"text-align: right;\">\n",
       "      <th></th>\n",
       "      <th>Age</th>\n",
       "      <th>Gender</th>\n",
       "      <th>Blood Type</th>\n",
       "      <th>Medical Condition</th>\n",
       "      <th>Insurance Provider</th>\n",
       "      <th>Billing Amount</th>\n",
       "      <th>Admission Type</th>\n",
       "      <th>Medication</th>\n",
       "      <th>Test Results</th>\n",
       "    </tr>\n",
       "  </thead>\n",
       "  <tbody>\n",
       "    <tr>\n",
       "      <th>0</th>\n",
       "      <td>30</td>\n",
       "      <td>Male</td>\n",
       "      <td>B-</td>\n",
       "      <td>Cancer</td>\n",
       "      <td>Blue Cross</td>\n",
       "      <td>18856.28131</td>\n",
       "      <td>Urgent</td>\n",
       "      <td>Paracetamol</td>\n",
       "      <td>2</td>\n",
       "    </tr>\n",
       "    <tr>\n",
       "      <th>1</th>\n",
       "      <td>62</td>\n",
       "      <td>Male</td>\n",
       "      <td>A+</td>\n",
       "      <td>Obesity</td>\n",
       "      <td>Medicare</td>\n",
       "      <td>33643.32729</td>\n",
       "      <td>Emergency</td>\n",
       "      <td>Ibuprofen</td>\n",
       "      <td>1</td>\n",
       "    </tr>\n",
       "    <tr>\n",
       "      <th>2</th>\n",
       "      <td>76</td>\n",
       "      <td>Female</td>\n",
       "      <td>A-</td>\n",
       "      <td>Obesity</td>\n",
       "      <td>Aetna</td>\n",
       "      <td>27955.09608</td>\n",
       "      <td>Emergency</td>\n",
       "      <td>Aspirin</td>\n",
       "      <td>2</td>\n",
       "    </tr>\n",
       "    <tr>\n",
       "      <th>3</th>\n",
       "      <td>28</td>\n",
       "      <td>Female</td>\n",
       "      <td>O+</td>\n",
       "      <td>Diabetes</td>\n",
       "      <td>Medicare</td>\n",
       "      <td>37909.78241</td>\n",
       "      <td>Elective</td>\n",
       "      <td>Ibuprofen</td>\n",
       "      <td>0</td>\n",
       "    </tr>\n",
       "    <tr>\n",
       "      <th>4</th>\n",
       "      <td>43</td>\n",
       "      <td>Female</td>\n",
       "      <td>AB+</td>\n",
       "      <td>Cancer</td>\n",
       "      <td>Aetna</td>\n",
       "      <td>14238.31781</td>\n",
       "      <td>Urgent</td>\n",
       "      <td>Penicillin</td>\n",
       "      <td>0</td>\n",
       "    </tr>\n",
       "  </tbody>\n",
       "</table>\n",
       "</div>"
      ],
      "text/plain": [
       "   Age  Gender Blood Type Medical Condition Insurance Provider  \\\n",
       "0   30    Male         B-            Cancer         Blue Cross   \n",
       "1   62    Male         A+           Obesity           Medicare   \n",
       "2   76  Female         A-           Obesity              Aetna   \n",
       "3   28  Female         O+          Diabetes           Medicare   \n",
       "4   43  Female        AB+            Cancer              Aetna   \n",
       "\n",
       "   Billing Amount Admission Type   Medication  Test Results  \n",
       "0     18856.28131         Urgent  Paracetamol             2  \n",
       "1     33643.32729      Emergency    Ibuprofen             1  \n",
       "2     27955.09608      Emergency      Aspirin             2  \n",
       "3     37909.78241       Elective    Ibuprofen             0  \n",
       "4     14238.31781         Urgent   Penicillin             0  "
      ]
     },
     "execution_count": 36,
     "metadata": {},
     "output_type": "execute_result"
    }
   ],
   "source": [
    "df.head()"
   ]
  },
  {
   "cell_type": "code",
   "execution_count": 37,
   "id": "926e855e",
   "metadata": {},
   "outputs": [],
   "source": [
    "x=df.drop(columns=\"Test Results\")\n",
    "y=df['Test Results']"
   ]
  },
  {
   "cell_type": "code",
   "execution_count": 38,
   "id": "c0904b66",
   "metadata": {},
   "outputs": [],
   "source": [
    "x_train,x_test,y_train,y_test=train_test_split(x,y,test_size=0.25,random_state=42)"
   ]
  },
  {
   "cell_type": "code",
   "execution_count": 39,
   "id": "a525e0a9",
   "metadata": {},
   "outputs": [],
   "source": [
    "trf1=ColumnTransformer([\n",
    "    (\"ohe\",OneHotEncoder(sparse=False,handle_unknown='ignore'),[1,2,3,4,6,7])\n",
    "],remainder=\"passthrough\")"
   ]
  },
  {
   "cell_type": "code",
   "execution_count": 57,
   "id": "c64fdbfa",
   "metadata": {},
   "outputs": [],
   "source": [
    "trf2=RandomForestClassifier(n_estimators=100, random_state=42)"
   ]
  },
  {
   "cell_type": "markdown",
   "id": "c0779908",
   "metadata": {},
   "source": [
    "### Create pipline"
   ]
  },
  {
   "cell_type": "code",
   "execution_count": 58,
   "id": "a52cdd20",
   "metadata": {},
   "outputs": [],
   "source": [
    "pipe=Pipeline([\n",
    "    (\"trf1\",trf1),\n",
    "    (\"trf2\",trf2)\n",
    "])"
   ]
  },
  {
   "cell_type": "code",
   "execution_count": 59,
   "id": "ae7ceaaf",
   "metadata": {},
   "outputs": [
    {
     "data": {
      "text/plain": [
       "Pipeline(steps=[('trf1',\n",
       "                 ColumnTransformer(remainder='passthrough',\n",
       "                                   transformers=[('ohe',\n",
       "                                                  OneHotEncoder(handle_unknown='ignore',\n",
       "                                                                sparse=False),\n",
       "                                                  [1, 2, 3, 4, 6, 7])])),\n",
       "                ('trf2', RandomForestClassifier(random_state=42))])"
      ]
     },
     "execution_count": 59,
     "metadata": {},
     "output_type": "execute_result"
    }
   ],
   "source": [
    "pipe.fit(x_train,y_train)"
   ]
  },
  {
   "cell_type": "code",
   "execution_count": 60,
   "id": "efae5a89",
   "metadata": {},
   "outputs": [],
   "source": [
    "# Predict\n",
    "y_pred = pipe.predict(x_test)"
   ]
  },
  {
   "cell_type": "code",
   "execution_count": 61,
   "id": "1ddd9ea4",
   "metadata": {},
   "outputs": [
    {
     "data": {
      "text/plain": [
       "0.4147867850385679"
      ]
     },
     "execution_count": 61,
     "metadata": {},
     "output_type": "execute_result"
    }
   ],
   "source": [
    "from sklearn.metrics import accuracy_score\n",
    "accuracy_score(y_test,y_pred)"
   ]
  },
  {
   "cell_type": "code",
   "execution_count": 63,
   "id": "387b2be9",
   "metadata": {},
   "outputs": [],
   "source": [
    "import pickle\n",
    "pickle.dump(pipe,open(\"pipe.pkl\",\"wb\"))"
   ]
  },
  {
   "cell_type": "code",
   "execution_count": null,
   "id": "48a75425",
   "metadata": {},
   "outputs": [],
   "source": []
  }
 ],
 "metadata": {
  "kernelspec": {
   "display_name": "Python 3 (ipykernel)",
   "language": "python",
   "name": "python3"
  },
  "language_info": {
   "codemirror_mode": {
    "name": "ipython",
    "version": 3
   },
   "file_extension": ".py",
   "mimetype": "text/x-python",
   "name": "python",
   "nbconvert_exporter": "python",
   "pygments_lexer": "ipython3",
   "version": "3.9.13"
  }
 },
 "nbformat": 4,
 "nbformat_minor": 5
}
